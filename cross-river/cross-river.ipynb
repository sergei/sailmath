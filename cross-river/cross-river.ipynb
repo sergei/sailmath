{
 "cells": [
  {
   "cell_type": "markdown",
   "metadata": {
    "collapsed": true
   },
   "source": [
    "# Crossing the river task\n",
    "\n",
    "## Situation\n",
    "The sailboat needs to sail upwind from start line to the finish line on port tack.\n",
    "\n",
    "There is a river of adverse flood parallel to the wind. \n",
    "The sailboat starts at the left edge of the river, sails at true wind angle $\\alpha_r$ with across the river.\n",
    "Once the river is crossed sailboat sails in the slack water with the true  wind angle $\\alpha_s$\n",
    "Wind is constant across the course\n",
    "\n",
    "## Question\n",
    "Find TWA $\\alpha_r$ to cross the river? \n",
    "\n",
    "<img src=\"fig1.jpg\" />\n",
    "\n"
   ]
  },
  {
   "cell_type": "markdown",
   "metadata": {},
   "source": [
    "Velocity up river:\n",
    "$$ v_{ur} = v_r cos \\alpha_r - v_c$$  \n",
    "Velocity cross river: \n",
    "$$ v_{cr} = v_r sin \\alpha_r $$  \n",
    "Time to cross the river:\n",
    "$$ t_r = \\frac{w}{v_{cr}} = \\frac{w}{v_r sin \\alpha_r}  $$\n",
    "Distance sailed upriver:\n",
    "$$ d_{ur} = (v_r cos \\alpha_r - v_c) t_r $$\n",
    "Time sailed in the slack water:\n",
    "$$ t_s = \\frac{d - d_{ur}}{v_s cos \\alpha_s } $$\n",
    "Total time\n",
    "$$ t = \\frac{d}{v_s cos \\alpha_s } - \\frac{d_{ur}}{v_s cos \\alpha_s } + \\frac{w}{v_r sin \\alpha_r} $$\n",
    "\n"
   ]
  },
  {
   "cell_type": "code",
   "execution_count": 1,
   "metadata": {},
   "outputs": [],
   "source": [
    "# Import necessary packages and magic\n",
    "\n",
    "%matplotlib inline\n",
    "import numpy as np\n",
    "import matplotlib.pyplot as plt\n"
   ]
  },
  {
   "cell_type": "code",
   "execution_count": 2,
   "metadata": {},
   "outputs": [],
   "source": [
    "def calc_time_cross_river(river_width, v_r, twa_r):\n",
    "    \"\"\" Calculate time to cross the river\"\"\"\n",
    "    t_r = river_width / (v_r * np.sin(twa_r))\n",
    "    return t_r"
   ]
  },
  {
   "cell_type": "code",
   "execution_count": 3,
   "metadata": {},
   "outputs": [],
   "source": [
    "def calc_dist_up_river(t_r, v_r, twa_r, v_c):\n",
    "    \"\"\" Calculate the distance sailed up the river\"\"\"\n",
    "    d_ur = (v_r * np.cos(twa_r) - v_c) * t_r\n",
    "    return d_ur\n"
   ]
  },
  {
   "cell_type": "code",
   "execution_count": 4,
   "metadata": {},
   "outputs": [],
   "source": [
    "def calc_time_in_slack(d, d_ur, v_s, twa_s):\n",
    "    \"\"\" Calculate time sailed in slack water\"\"\"\n",
    "    t_s = (d - d_ur) / (v_s * np.cos(twa_s))\n",
    "    return t_s\n"
   ]
  },
  {
   "cell_type": "code",
   "execution_count": 5,
   "metadata": {},
   "outputs": [],
   "source": [
    "def kts2ms(kts):\n",
    "    \"\"\" Converts knots to m/s\"\"\"\n",
    "    return kts * 1852. / 3600.\n"
   ]
  },
  {
   "cell_type": "code",
   "execution_count": 21,
   "metadata": {
    "scrolled": true
   },
   "outputs": [
    {
     "data": {
      "image/png": "[encoded data removed]",
      "text/plain": [
       "<matplotlib.figure.Figure at 0x107e55b10>"
      ]
     },
     "metadata": {},
     "output_type": "display_data"
    }
   ],
   "source": [
    "# Set some parameters \n",
    "v_c = kts2ms(3)\n",
    "\n",
    "w_min = 20.\n",
    "w_max = 21.\n",
    "w_step = 20.\n",
    "\n",
    "v_r = kts2ms(6)\n",
    "v_s = kts2ms(6)\n",
    "\n",
    "twa_s = np.deg2rad(20)\n",
    "twa_river_min = np.deg2rad(30)\n",
    "twa_river_max = np.deg2rad(90)\n",
    "twa_river_step = np.deg2rad(1)\n",
    "\n",
    "d = w_max * 2\n",
    "\n",
    "for w in np.arange(w_min, w_max, w_step):\n",
    "    twa_r = np.arange(twa_river_min, twa_river_max, twa_river_step)\n",
    "    t_r = calc_time_cross_river(w, v_r, twa_r)\n",
    "    d_ur = calc_dist_up_river(t_r, v_r, twa_r, v_c)\n",
    "    t_s = calc_time_in_slack(d, d_ur, v_s, twa_s)\n",
    "    t = t_r + t_s\n",
    "\n",
    "    opt_idx = np.argmin(t)\n",
    "    \n",
    "    plt.plot(np.rad2deg(twa_r), t_r)\n",
    "    plt.plot(np.rad2deg(twa_r), t_s)\n",
    "    plt.plot(np.rad2deg(twa_r), t)\n",
    "    plt.plot(np.rad2deg(twa_r[opt_idx]), t[opt_idx],'or')\n",
    "    plt.legend(['Time in River', 'Time in Slack', 'Total Time'])\n",
    "    plt.xlabel('TWA [deg]')\n",
    "    plt.ylabel('Time [sec]')\n",
    "\n"
   ]
  },
  {
   "cell_type": "code",
   "execution_count": 22,
   "metadata": {},
   "outputs": [
    {
     "name": "stdout",
     "output_type": "stream",
     "text": [
      "Optimal TWA 46.000000\n"
     ]
    }
   ],
   "source": [
    "print 'Optimal TWA %f' % np.rad2deg(twa_r[opt_idx])"
   ]
  },
  {
   "cell_type": "code",
   "execution_count": null,
   "metadata": {},
   "outputs": [],
   "source": []
  }
 ],
 "metadata": {
  "kernelspec": {
   "display_name": "Python 2",
   "language": "python",
   "name": "python2"
  },
  "language_info": {
   "codemirror_mode": {
    "name": "ipython",
    "version": 2
   },
   "file_extension": ".py",
   "mimetype": "text/x-python",
   "name": "python",
   "nbconvert_exporter": "python",
   "pygments_lexer": "ipython2",
   "version": "2.7.13"
  }
 },
 "nbformat": 4,
 "nbformat_minor": 1
}
